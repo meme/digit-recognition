{
 "cells": [
  {
   "cell_type": "code",
   "execution_count": 47,
   "metadata": {},
   "outputs": [
    {
     "name": "stdout",
     "output_type": "stream",
     "text": [
      "   label  pixel0  pixel1  pixel2  pixel3  pixel4  pixel5  pixel6  pixel7  \\\n",
      "0      1       0       0       0       0       0       0       0       0   \n",
      "1      0       0       0       0       0       0       0       0       0   \n",
      "2      1       0       0       0       0       0       0       0       0   \n",
      "3      4       0       0       0       0       0       0       0       0   \n",
      "4      0       0       0       0       0       0       0       0       0   \n",
      "\n",
      "   pixel8    ...     pixel774  pixel775  pixel776  pixel777  pixel778  \\\n",
      "0       0    ...            0         0         0         0         0   \n",
      "1       0    ...            0         0         0         0         0   \n",
      "2       0    ...            0         0         0         0         0   \n",
      "3       0    ...            0         0         0         0         0   \n",
      "4       0    ...            0         0         0         0         0   \n",
      "\n",
      "   pixel779  pixel780  pixel781  pixel782  pixel783  \n",
      "0         0         0         0         0         0  \n",
      "1         0         0         0         0         0  \n",
      "2         0         0         0         0         0  \n",
      "3         0         0         0         0         0  \n",
      "4         0         0         0         0         0  \n",
      "\n",
      "[5 rows x 785 columns]\n",
      "   pixel0  pixel1  pixel2  pixel3  pixel4  pixel5  pixel6  pixel7  pixel8  \\\n",
      "0       0       0       0       0       0       0       0       0       0   \n",
      "1       0       0       0       0       0       0       0       0       0   \n",
      "2       0       0       0       0       0       0       0       0       0   \n",
      "3       0       0       0       0       0       0       0       0       0   \n",
      "4       0       0       0       0       0       0       0       0       0   \n",
      "\n",
      "   pixel9    ...     pixel774  pixel775  pixel776  pixel777  pixel778  \\\n",
      "0       0    ...            0         0         0         0         0   \n",
      "1       0    ...            0         0         0         0         0   \n",
      "2       0    ...            0         0         0         0         0   \n",
      "3       0    ...            0         0         0         0         0   \n",
      "4       0    ...            0         0         0         0         0   \n",
      "\n",
      "   pixel779  pixel780  pixel781  pixel782  pixel783  \n",
      "0         0         0         0         0         0  \n",
      "1         0         0         0         0         0  \n",
      "2         0         0         0         0         0  \n",
      "3         0         0         0         0         0  \n",
      "4         0         0         0         0         0  \n",
      "\n",
      "[5 rows x 784 columns]\n"
     ]
    }
   ],
   "source": [
    "import tensorflow as tf\n",
    "import pandas as pd\n",
    "import numpy as np\n",
    "import matplotlib as plt\n",
    "\n",
    "SEED = 6 * 6 + 6\n",
    "\n",
    "tf.set_random_seed(SEED)\n",
    "np.random.seed(SEED)\n",
    "\n",
    "K = tf.keras\n",
    "\n",
    "train = pd.read_csv('train.csv', sep = ',')\n",
    "predict = pd.read_csv('test.csv', sep = ',')\n",
    "\n",
    "train_X = train[train.columns[1:]].values\n",
    "train_y = K.utils.to_categorical(train['label'].values, 10)\n",
    "\n",
    "predict_X = predict.values\n",
    "\n",
    "print(train.head())\n",
    "print(predict.head())"
   ]
  },
  {
   "cell_type": "code",
   "execution_count": 49,
   "metadata": {},
   "outputs": [
    {
     "name": "stdout",
     "output_type": "stream",
     "text": [
      "Train on 37800 samples, validate on 4200 samples\n",
      "Epoch 1/10\n",
      "37800/37800 [==============================] - 11s 304us/step - loss: 8.5575 - acc: 0.4584 - val_loss: 6.9137 - val_acc: 0.5643\n",
      "Epoch 2/10\n",
      "37800/37800 [==============================] - 10s 274us/step - loss: 5.3536 - acc: 0.6557 - val_loss: 3.2437 - val_acc: 0.7881\n",
      "Epoch 3/10\n",
      "37800/37800 [==============================] - 10s 275us/step - loss: 3.6252 - acc: 0.7635 - val_loss: 2.9645 - val_acc: 0.8081\n",
      "Epoch 4/10\n",
      "37800/37800 [==============================] - 13s 332us/step - loss: 2.6549 - acc: 0.8226 - val_loss: 1.4680 - val_acc: 0.9002\n",
      "Epoch 5/10\n",
      "37800/37800 [==============================] - 12s 321us/step - loss: 1.6620 - acc: 0.8848 - val_loss: 1.1562 - val_acc: 0.9193\n",
      "Epoch 6/10\n",
      "37800/37800 [==============================] - 14s 364us/step - loss: 1.4337 - acc: 0.9007 - val_loss: 1.1144 - val_acc: 0.9214\n",
      "Epoch 7/10\n",
      "37800/37800 [==============================] - 13s 337us/step - loss: 1.2945 - acc: 0.9093 - val_loss: 0.9931 - val_acc: 0.9312\n",
      "Epoch 8/10\n",
      "37800/37800 [==============================] - 13s 345us/step - loss: 1.1908 - acc: 0.9162 - val_loss: 0.8772 - val_acc: 0.9398\n",
      "Epoch 9/10\n",
      "37800/37800 [==============================] - 14s 376us/step - loss: 1.0825 - acc: 0.9226 - val_loss: 0.8278 - val_acc: 0.9417\n",
      "Epoch 10/10\n",
      "37800/37800 [==============================] - 11s 303us/step - loss: 0.9924 - acc: 0.9289 - val_loss: 0.7789 - val_acc: 0.9433\n"
     ]
    },
    {
     "data": {
      "text/plain": [
       "<tensorflow.python.keras._impl.keras.callbacks.History at 0x12558a2e8>"
      ]
     },
     "execution_count": 49,
     "metadata": {},
     "output_type": "execute_result"
    }
   ],
   "source": [
    "model = K.Sequential()\n",
    "\n",
    "model.add(K.layers.Dense(512, input_shape = (784,), activation = 'relu', name = 'dense_0'))\n",
    "model.add(K.layers.Dropout(0.2, name = 'dropout_0'))\n",
    "model.add(K.layers.Dense(512, activation = 'relu', name = 'dense_1'))\n",
    "model.add(K.layers.Dropout(0.2, name = 'dropout_1'))\n",
    "model.add(K.layers.Dense(10, activation = 'softmax', name = 'dense_2'))\n",
    "\n",
    "model.compile(\n",
    "    optimizer = K.optimizers.SGD(lr = 0.001),\n",
    "    loss = 'categorical_crossentropy',\n",
    "    metrics = ['accuracy']\n",
    ")\n",
    "\n",
    "model.fit(train_X, train_y, batch_size = 128, epochs = 10, verbose = 1, validation_split = 0.1)"
   ]
  },
  {
   "cell_type": "code",
   "execution_count": 44,
   "metadata": {},
   "outputs": [],
   "source": [
    "predict_y = np.argmax(model.predict(test_X), 1)\n",
    "index = np.arange(1, predict_y.shape[0] + 1)\n",
    "\n",
    "pd.DataFrame({ 'ImageId': index, 'Label': predict_y }, columns = ['ImageId', 'Label']).to_csv('submission.csv', index = False)"
   ]
  },
  {
   "cell_type": "code",
   "execution_count": null,
   "metadata": {},
   "outputs": [],
   "source": []
  }
 ],
 "metadata": {
  "kernelspec": {
   "display_name": "Python 3",
   "language": "python",
   "name": "python3"
  },
  "language_info": {
   "codemirror_mode": {
    "name": "ipython",
    "version": 3
   },
   "file_extension": ".py",
   "mimetype": "text/x-python",
   "name": "python",
   "nbconvert_exporter": "python",
   "pygments_lexer": "ipython3",
   "version": "3.6.5"
  }
 },
 "nbformat": 4,
 "nbformat_minor": 2
}
